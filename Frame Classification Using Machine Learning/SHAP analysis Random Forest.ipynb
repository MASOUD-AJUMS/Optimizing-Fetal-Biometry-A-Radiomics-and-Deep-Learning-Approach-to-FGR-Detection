{
 "cells": [
  {
   "cell_type": "code",
   "execution_count": null,
   "metadata": {},
   "outputs": [],
   "source": [
    "import shap\n",
    "import numpy as np\n",
    "from sklearn.ensemble import RandomForestClassifier\n",
    "import pandas as pd\n",
    "\n",
    "# آموزش مدل\n",
    "model = RandomForestClassifier()\n",
    "model.fit(X_train, y_train)\n",
    "\n",
    "# استفاده از Explainer جدید\n",
    "explainer = shap.Explainer(model.predict_proba, X_train)\n",
    "shap_values = explainer(X_train)\n",
    "\n",
    "# بررسی شکل shap_values\n",
    "print('X_train shape:', X_train.shape)\n",
    "print('shap_values.values shape:', shap_values.values.shape)\n",
    "\n",
    "# برای مدل‌های چندکلاسه، انتخاب کلاس مورد نظر (مثلاً کلاس 1)\n",
    "shap_values_class1 = shap_values[:, :, 1]\n",
    "\n",
    "# رسم نمودار SHAP برای کلاس 1\n",
    "shap.summary_plot(shap_values_class1, X_train)"
   ]
  }
 ],
 "metadata": {
  "kernelspec": {
   "display_name": "Python 3",
   "language": "python",
   "name": "python3"
  },
  "language_info": {
   "name": "python",
   "version": "3.12.5"
  }
 },
 "nbformat": 4,
 "nbformat_minor": 2
}
